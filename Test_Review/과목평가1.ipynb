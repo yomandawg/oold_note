{
 "cells": [
  {
   "cell_type": "code",
   "execution_count": 2,
   "metadata": {},
   "outputs": [
    {
     "name": "stdout",
     "output_type": "stream",
     "text": [
      "10\n"
     ]
    }
   ],
   "source": [
    "result = 4 + True + False + 5\n",
    "print(result)"
   ]
  },
  {
   "cell_type": "markdown",
   "metadata": {},
   "source": [
    "시퀀스 자료형\n",
    "* 기본적으로 정렬이 되어 있지만, 사용자 임의로 순서 변경이 가능한 경우가 있고 없는 경우가 있다."
   ]
  },
  {
   "cell_type": "code",
   "execution_count": 3,
   "metadata": {},
   "outputs": [
    {
     "data": {
      "text/plain": [
       "'hon'"
      ]
     },
     "execution_count": 3,
     "metadata": {},
     "output_type": "execute_result"
    }
   ],
   "source": [
    "word = \"python\"\n",
    "word[3:8]"
   ]
  },
  {
   "cell_type": "code",
   "execution_count": 4,
   "metadata": {},
   "outputs": [
    {
     "data": {
      "text/plain": [
       "'e'"
      ]
     },
     "execution_count": 4,
     "metadata": {},
     "output_type": "execute_result"
    }
   ],
   "source": [
    "names = ['John', 'Ron', 'James', 'Betty']\n",
    "names[-2][-2]"
   ]
  },
  {
   "cell_type": "markdown",
   "metadata": {},
   "source": [
    "다섯 개의 정수 0을 가진 리스트를 만드는 방법\n",
    "* L = [0] * 5\n",
    "* L = [0 for i in range(5)]\n",
    "* <s>L = [] ; L.append(0*5)</s>"
   ]
  },
  {
   "cell_type": "code",
   "execution_count": 10,
   "metadata": {},
   "outputs": [
    {
     "name": "stdout",
     "output_type": "stream",
     "text": [
      "m\n",
      "m\n"
     ]
    }
   ],
   "source": [
    "s = \"hello my name is ssafy\"\n",
    "for i in s:\n",
    "    if i == 'm':\n",
    "        print(i)"
   ]
  },
  {
   "cell_type": "code",
   "execution_count": 36,
   "metadata": {},
   "outputs": [
    {
     "name": "stdout",
     "output_type": "stream",
     "text": [
      "i'm hUnGrY '\n"
     ]
    }
   ],
   "source": [
    "string = \"i'm hungry\"\n",
    "result = \"\"\n",
    "for idx, value in enumerate(string):\n",
    "    if idx%2:\n",
    "        result += value.upper()\n",
    "    else:\n",
    "        result += value\n",
    "print(result, \"'\".upper())"
   ]
  },
  {
   "cell_type": "code",
   "execution_count": 24,
   "metadata": {},
   "outputs": [
    {
     "name": "stdout",
     "output_type": "stream",
     "text": [
      "{'d': {}} {'d': {}} {}\n",
      "True False\n"
     ]
    }
   ],
   "source": [
    "d1 = {'d': dict()}\n",
    "d2 = dict(d={})\n",
    "d3 = dict()\n",
    "print(d1, d2, d3)\n",
    "\n",
    "print(d2 == d1, d2 is d1)"
   ]
  },
  {
   "cell_type": "code",
   "execution_count": 72,
   "metadata": {},
   "outputs": [
    {
     "name": "stdout",
     "output_type": "stream",
     "text": [
      "None None {'a': 1, 'b': 2, 'c': 3}\n",
      "ABC\n"
     ]
    }
   ],
   "source": [
    "d = {'a': 1, 'b': 2}\n",
    "a1 = d.update(c=3) # a1에 d.update(c=3)메서드의 return값을 넣는 것이므로 a1은 None: update has no return\n",
    "a2 = a1\n",
    "print(a1, a2, d)\n",
    "# 원본을 바꾸는 값들 중 return이 없는 것이 있다!\n",
    "# .sort(), .update() 등\n",
    "\n",
    "string = 'abc'\n",
    "a = string.upper()\n",
    "print(a) # upper()은 return한다"
   ]
  },
  {
   "cell_type": "code",
   "execution_count": 47,
   "metadata": {},
   "outputs": [
    {
     "name": "stdout",
     "output_type": "stream",
     "text": [
      "{'사과': None}\n",
      "None\n"
     ]
    },
    {
     "ename": "KeyError",
     "evalue": "'yo'",
     "output_type": "error",
     "traceback": [
      "\u001b[1;31m---------------------------------------------------------------------------\u001b[0m",
      "\u001b[1;31mKeyError\u001b[0m                                  Traceback (most recent call last)",
      "\u001b[1;32m<ipython-input-47-23b37b834732>\u001b[0m in \u001b[0;36m<module>\u001b[1;34m\u001b[0m\n\u001b[0;32m      8\u001b[0m \u001b[1;33m\u001b[0m\u001b[0m\n\u001b[0;32m      9\u001b[0m \u001b[0mprint\u001b[0m\u001b[1;33m(\u001b[0m\u001b[0mfruits\u001b[0m\u001b[1;33m.\u001b[0m\u001b[0mget\u001b[0m\u001b[1;33m(\u001b[0m\u001b[1;34m'yo'\u001b[0m\u001b[1;33m)\u001b[0m\u001b[1;33m)\u001b[0m\u001b[1;33m\u001b[0m\u001b[1;33m\u001b[0m\u001b[0m\n\u001b[1;32m---> 10\u001b[1;33m \u001b[0mprint\u001b[0m\u001b[1;33m(\u001b[0m\u001b[0mfruits\u001b[0m\u001b[1;33m[\u001b[0m\u001b[1;34m'yo'\u001b[0m\u001b[1;33m]\u001b[0m\u001b[1;33m)\u001b[0m \u001b[1;31m# without get: keyError\u001b[0m\u001b[1;33m\u001b[0m\u001b[1;33m\u001b[0m\u001b[0m\n\u001b[0m",
      "\u001b[1;31mKeyError\u001b[0m: 'yo'"
     ]
    }
   ],
   "source": [
    "fruits = {'apple': '사과', 'banana': '바나나'}\n",
    "a = fruits.get('apple') # key값으로 value 가져오는 메서드 get\n",
    "b = fruits.get('cherry')\n",
    "c = fruits.get('melon', True) # 없으면 default None인데 True 반환\n",
    "d = { a: b }\n",
    "if c:\n",
    "    print(d)\n",
    "\n",
    "print(fruits.get('yo'))\n",
    "print(fruits['yo']) # without get: keyError"
   ]
  },
  {
   "cell_type": "markdown",
   "metadata": {},
   "source": [
    "* 함수의 인자(parameter)은 함수 선언시 설정한 값이며, 인수(arugment)는 함수 호출시 넘겨주는 값이다.\n",
    "* 함수는 오직 하나의 객체만 반환할 수 있다.\n",
    "* <s>함수에서 return을 작성하지 않으면 코드 실행시 오류가 발생한다.</s>\n",
    "* 같은 이름의 함수를 선언하면, 함수 호출 시 나중에 선언된 함수가 실행된다."
   ]
  },
  {
   "cell_type": "code",
   "execution_count": 63,
   "metadata": {},
   "outputs": [
    {
     "name": "stdout",
     "output_type": "stream",
     "text": [
      "80\n",
      "(1, 2, 3)\n",
      "dict_items([('d', 3), ('e', 6), ('c', 6)])\n",
      "{'d': 3, 'e': 6, 'c': 6}\n"
     ]
    }
   ],
   "source": [
    "def func(a, b=1, c=2, *args, **kwargs):\n",
    "    d = sum([n*2 for n in args if n >2])\n",
    "    e = sum([v*v for k, v in kwargs.items()])\n",
    "    return a + b + c + d + e\n",
    "\n",
    "print(func(9, 4, 2, 3, 1, 7, d=3, e=6))\n",
    "        #  a, b, c, arggargs, kwargs\n",
    "# args: tuple로 받음\n",
    "# kwargs: dict로 받음\n",
    "\n",
    "def arg(*args):\n",
    "    return args\n",
    "print(arg(1,2,3))\n",
    "\n",
    "def kw(**kwargs):\n",
    "    print(kwargs.items()) # dict.items(): dict를 key, value로 바꿔서 나타냄\n",
    "    return kwargs\n",
    "print(kw(d=3, e=6, c=6))"
   ]
  },
  {
   "cell_type": "code",
   "execution_count": 64,
   "metadata": {},
   "outputs": [
    {
     "name": "stdout",
     "output_type": "stream",
     "text": [
      "5\n"
     ]
    }
   ],
   "source": [
    "def fib(n):\n",
    "    if n == 0 or n == 1:\n",
    "        return 1\n",
    "    else:\n",
    "        return fib(n-1) + fib(n-2)\n",
    "\n",
    "print(fib(4))"
   ]
  },
  {
   "cell_type": "code",
   "execution_count": 69,
   "metadata": {},
   "outputs": [
    {
     "name": "stdout",
     "output_type": "stream",
     "text": [
      "None\n"
     ]
    }
   ],
   "source": [
    "def my_sum(a, b):\n",
    "    c = a + b\n",
    "    \n",
    "result = my_sum(5,8)\n",
    "print(result) # return이 없을 땐 None 출력한다!!!"
   ]
  },
  {
   "cell_type": "code",
   "execution_count": 80,
   "metadata": {},
   "outputs": [
    {
     "name": "stdout",
     "output_type": "stream",
     "text": [
      "115\n"
     ]
    },
    {
     "ename": "NameError",
     "evalue": "name 'my_func_3' is not defined",
     "output_type": "error",
     "traceback": [
      "\u001b[1;31m---------------------------------------------------------------------------\u001b[0m",
      "\u001b[1;31mNameError\u001b[0m                                 Traceback (most recent call last)",
      "\u001b[1;32m<ipython-input-80-68c6889db287>\u001b[0m in \u001b[0;36m<module>\u001b[1;34m\u001b[0m\n\u001b[0;32m     12\u001b[0m \u001b[0mmy_func_2\u001b[0m\u001b[1;33m(\u001b[0m\u001b[1;33m)\u001b[0m\u001b[1;33m\u001b[0m\u001b[1;33m\u001b[0m\u001b[0m\n\u001b[0;32m     13\u001b[0m \u001b[0mmy_func_1\u001b[0m\u001b[1;33m(\u001b[0m\u001b[1;33m)\u001b[0m\u001b[1;33m\u001b[0m\u001b[1;33m\u001b[0m\u001b[0m\n\u001b[1;32m---> 14\u001b[1;33m \u001b[0mmy_func_3\u001b[0m\u001b[1;33m(\u001b[0m\u001b[1;33m)\u001b[0m\u001b[1;33m\u001b[0m\u001b[1;33m\u001b[0m\u001b[0m\n\u001b[0m\u001b[0;32m     15\u001b[0m \u001b[1;33m\u001b[0m\u001b[0m\n\u001b[0;32m     16\u001b[0m \u001b[1;31m# python if, for은 scope를 만들지 않는다.\u001b[0m\u001b[1;33m\u001b[0m\u001b[1;33m\u001b[0m\u001b[1;33m\u001b[0m\u001b[0m\n",
      "\u001b[1;31mNameError\u001b[0m: name 'my_func_3' is not defined"
     ]
    }
   ],
   "source": [
    "a = 1\n",
    "def my_func_1():\n",
    "    a = 5\n",
    "    my_func_2()\n",
    "    def my_func_3():\n",
    "        print(a)\n",
    "    my_func_3()\n",
    "\n",
    "def my_func_2():\n",
    "    print(a, end='')\n",
    "    \n",
    "my_func_2()\n",
    "my_func_1()\n",
    "my_func_3()"
   ]
  },
  {
   "cell_type": "code",
   "execution_count": 82,
   "metadata": {},
   "outputs": [
    {
     "name": "stdout",
     "output_type": "stream",
     "text": [
      "hi\n",
      "hi\n",
      "hi\n",
      "3\n"
     ]
    }
   ],
   "source": [
    "# python if, for은 scope를 만들지 않는다.\n",
    "\n",
    "for i in [1,2,3]:\n",
    "    print('hi')\n",
    "\n",
    "def func1():\n",
    "    print(i)\n",
    "    \n",
    "func1()"
   ]
  },
  {
   "cell_type": "code",
   "execution_count": 83,
   "metadata": {},
   "outputs": [
    {
     "name": "stdout",
     "output_type": "stream",
     "text": [
      "421\n"
     ]
    }
   ],
   "source": [
    "def func(c='5', *args):\n",
    "    a,c,b = args\n",
    "    return a + b + c\n",
    "\n",
    "print(func('3','4','1','2'))"
   ]
  },
  {
   "cell_type": "code",
   "execution_count": 117,
   "metadata": {},
   "outputs": [
    {
     "name": "stdout",
     "output_type": "stream",
     "text": [
      "hong\n",
      "kim\n",
      "\n",
      "hong\n",
      "choi\n",
      "\n",
      "hong\n",
      "kang\n",
      "\n",
      "hong\n",
      "yo\n",
      "\n",
      "hong\n",
      "kim\n"
     ]
    }
   ],
   "source": [
    "name = 'hong'\n",
    "class Person:\n",
    "    name = 'choi' # Person.name & p1.name\n",
    "    def greeting(self):\n",
    "        print(name)\n",
    "        print(self.name)\n",
    "        \n",
    "p1 = Person()\n",
    "p1.name = 'kim'\n",
    "p1.greeting()\n",
    "print()\n",
    "\n",
    "p2 = Person()\n",
    "p2.greeting()\n",
    "print()\n",
    "\n",
    "Person.name = 'kang'\n",
    "p3 = Person()\n",
    "p3.greeting()\n",
    "print()\n",
    "\n",
    "p3.name = 'yo'\n",
    "p3.greeting()\n",
    "print()\n",
    "\n",
    "p1.greeting()"
   ]
  },
  {
   "cell_type": "code",
   "execution_count": 109,
   "metadata": {},
   "outputs": [
    {
     "name": "stdout",
     "output_type": "stream",
     "text": [
      "kang\n"
     ]
    }
   ],
   "source": [
    "def func1():\n",
    "    name = \"kang\"\n",
    "    def func2():\n",
    "        print(name)\n",
    "    func2()\n",
    "\n",
    "func1()"
   ]
  },
  {
   "cell_type": "code",
   "execution_count": 139,
   "metadata": {},
   "outputs": [
    {
     "name": "stdout",
     "output_type": "stream",
     "text": [
      "2\n",
      "2\n",
      "0\n",
      "1\n"
     ]
    }
   ],
   "source": [
    "name = 'hong'\n",
    "class Person:\n",
    "    population = 0\n",
    "    def __init__(self, name):\n",
    "        self.name = name\n",
    "        Person.population += 1\n",
    "        \n",
    "p1 = Person('kim')\n",
    "p2 = Person('lee')\n",
    "print(Person.population)\n",
    "print(p1.population)\n",
    "Person.population = 0\n",
    "print(p1.population)\n",
    "\n",
    "p1.add = lambda x: print(1)\n",
    "p1.add('a')"
   ]
  },
  {
   "cell_type": "code",
   "execution_count": 141,
   "metadata": {},
   "outputs": [
    {
     "data": {
      "text/plain": [
       "3.0"
      ]
     },
     "execution_count": 141,
     "metadata": {},
     "output_type": "execute_result"
    }
   ],
   "source": [
    "comp = 3 + 4j\n",
    "comp.real # 메서드가 아니다! attribute이다."
   ]
  },
  {
   "cell_type": "code",
   "execution_count": 187,
   "metadata": {},
   "outputs": [
    {
     "name": "stdout",
     "output_type": "stream",
     "text": [
      "[1, 2, 3, [0, 5, 6]]\n",
      "[1, 2, 3, [0, 5, 6]]\n",
      "[0, 5, 6]\n",
      "[1, 2, 3, 0]\n",
      "[1, 2, 3, 0]\n",
      "[0, 5, 6]\n"
     ]
    }
   ],
   "source": [
    "nums = [4,5,6]\n",
    "my_list = [1,2,3, nums]\n",
    "your_list = my_list\n",
    "\n",
    "your_list[3][0] = 0\n",
    "print(your_list)\n",
    "print(my_list)\n",
    "print(nums)\n",
    "\n",
    "your_list[3] = 0\n",
    "print(your_list)\n",
    "print(my_list)\n",
    "print(nums)"
   ]
  },
  {
   "cell_type": "code",
   "execution_count": 188,
   "metadata": {},
   "outputs": [
    {
     "name": "stdout",
     "output_type": "stream",
     "text": [
      "[1, 2, 3, [0, 5, 6]]\n",
      "[1, 2, 3, [0, 5, 6]]\n",
      "[0, 5, 6]\n",
      "[1, 2, 3, 0]\n",
      "[1, 2, 3, [0, 5, 6]]\n",
      "[0, 5, 6]\n"
     ]
    }
   ],
   "source": [
    "nums = [4,5,6]\n",
    "my_list = [1,2,3, nums]\n",
    "your_list = my_list[:] # shallow copy\n",
    "\n",
    "your_list[3][0] = 0\n",
    "print(your_list)\n",
    "print(my_list)\n",
    "print(nums)\n",
    "\n",
    "your_list[3] = 0\n",
    "print(your_list)\n",
    "print(my_list)\n",
    "print(nums)"
   ]
  },
  {
   "cell_type": "code",
   "execution_count": 189,
   "metadata": {},
   "outputs": [
    {
     "name": "stdout",
     "output_type": "stream",
     "text": [
      "[1, 2, 3, [0, 5, 6]]\n",
      "[1, 2, 3, [0, 5, 6]]\n",
      "[0, 5, 6]\n",
      "[1, 2, 3, 0]\n",
      "[1, 2, 3, [0, 5, 6]]\n",
      "[0, 5, 6]\n"
     ]
    }
   ],
   "source": [
    "import copy\n",
    "\n",
    "nums = [4,5,6]\n",
    "my_list = [1,2,3, nums]\n",
    "your_list = copy.copy(my_list) # shallow copy\n",
    "\n",
    "your_list[3][0] = 0\n",
    "print(your_list)\n",
    "print(my_list)\n",
    "print(nums)\n",
    "\n",
    "your_list[3] = 0\n",
    "print(your_list)\n",
    "print(my_list)\n",
    "print(nums)"
   ]
  },
  {
   "cell_type": "code",
   "execution_count": 190,
   "metadata": {},
   "outputs": [
    {
     "name": "stdout",
     "output_type": "stream",
     "text": [
      "[1, 2, 3, [0, 5, 6]]\n",
      "[1, 2, 3, [4, 5, 6]]\n",
      "[4, 5, 6]\n",
      "[1, 2, 3, 0]\n",
      "[1, 2, 3, [4, 5, 6]]\n",
      "[4, 5, 6]\n"
     ]
    }
   ],
   "source": [
    "import copy\n",
    "\n",
    "nums = [4,5,6]\n",
    "my_list = [1,2,3, nums]\n",
    "your_list = copy.deepcopy(my_list) # deepcopy\n",
    "\n",
    "your_list[3][0] = 0\n",
    "print(your_list)\n",
    "print(my_list)\n",
    "print(nums)\n",
    "\n",
    "your_list[3] = 0\n",
    "print(your_list)\n",
    "print(my_list)\n",
    "print(nums)"
   ]
  },
  {
   "cell_type": "code",
   "execution_count": 191,
   "metadata": {},
   "outputs": [],
   "source": [
    "import copy\n",
    "\n",
    "list1 = [3, 'a', 'b']\n",
    "list2 = [1,2,list1]\n",
    "list3 = list1[:] # shallowcopy\n",
    "list4 = copy.copy(list2) # shallowcopy\n",
    "list5 = copy.deepcopy(list2) # deepcopy"
   ]
  },
  {
   "cell_type": "markdown",
   "metadata": {},
   "source": [
    "# Deepcopy"
   ]
  },
  {
   "cell_type": "code",
   "execution_count": 192,
   "metadata": {},
   "outputs": [
    {
     "data": {
      "text/plain": [
       "False"
      ]
     },
     "execution_count": 192,
     "metadata": {},
     "output_type": "execute_result"
    }
   ],
   "source": [
    "list1 = [1,2,3]\n",
    "list2 = [4,5,6,list1]\n",
    "list3 = list2[:]\n",
    "\n",
    "def deepcopy(l):\n",
    "    result = []\n",
    "    for e in l:\n",
    "        if type(e) == list:\n",
    "            result.append(e[:])\n",
    "        else:\n",
    "            result.append(e)\n",
    "    return result\n",
    "\n",
    "list2 is deepcopy(list2)"
   ]
  },
  {
   "cell_type": "code",
   "execution_count": null,
   "metadata": {},
   "outputs": [],
   "source": []
  }
 ],
 "metadata": {
  "kernelspec": {
   "display_name": "Python 3",
   "language": "python",
   "name": "python3"
  },
  "language_info": {
   "codemirror_mode": {
    "name": "ipython",
    "version": 3
   },
   "file_extension": ".py",
   "mimetype": "text/x-python",
   "name": "python",
   "nbconvert_exporter": "python",
   "pygments_lexer": "ipython3",
   "version": "3.7.1"
  }
 },
 "nbformat": 4,
 "nbformat_minor": 2
}
