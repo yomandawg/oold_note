{
 "cells": [
  {
   "cell_type": "markdown",
   "metadata": {},
   "source": [
    "# Algorithms Problem Solving\n",
    "\n",
    "## Iteration and Recursive\n",
    "\n",
    "* Too many recursives cause stack overflow"
   ]
  },
  {
   "cell_type": "markdown",
   "metadata": {},
   "source": [
    "### Selection Sort"
   ]
  },
  {
   "cell_type": "code",
   "execution_count": 95,
   "metadata": {},
   "outputs": [],
   "source": [
    "def SelectionSort(A):\n",
    "    n = len(A)\n",
    "    for i in range(0, n-1):\n",
    "        min = i\n",
    "        for j in range(i, n):\n",
    "            if A[j] < A[min]:\n",
    "                min = j\n",
    "        A[i], A[min] = A[min], A[i]\n",
    "        print(A)\n",
    "    \n",
    "def rec_SelectionSort(A, s, e):\n",
    "    if s == e: return\n",
    "    \n",
    "    min = s\n",
    "    for j in range(s, e):\n",
    "        if A[j] < A[min]:\n",
    "            min = j\n",
    "    A[s], A[min] = A[min], A[s]\n",
    "    print(A)\n",
    "    \n",
    "    rec_SelectionSort(A, s+1, e)"
   ]
  },
  {
   "cell_type": "code",
   "execution_count": 96,
   "metadata": {},
   "outputs": [
    {
     "name": "stdout",
     "output_type": "stream",
     "text": [
      "[1, 5, 4, 2, 3]\n",
      "[1, 2, 4, 5, 3]\n",
      "[1, 2, 3, 5, 4]\n",
      "[1, 2, 3, 4, 5]\n",
      "\n",
      "[1, 5, 4, 2, 3]\n",
      "[1, 2, 4, 5, 3]\n",
      "[1, 2, 3, 5, 4]\n",
      "[1, 2, 3, 4, 5]\n",
      "[1, 2, 3, 4, 5]\n"
     ]
    }
   ],
   "source": [
    "A = [2, 5, 4, 1, 3]\n",
    "SelectionSort(A)\n",
    "print()\n",
    "B = [2, 5, 4, 1, 3]\n",
    "rec_SelectionSort(B, 0, 5)"
   ]
  },
  {
   "cell_type": "markdown",
   "metadata": {},
   "source": [
    "## 완전 검색\n",
    "* Greedy 막기 위해\n",
    "\n",
    "### Brute Force\n",
    "* 효율성의 척도"
   ]
  },
  {
   "cell_type": "code",
   "execution_count": 114,
   "metadata": {},
   "outputs": [],
   "source": [
    "# 조합\n",
    "def comb(n):\n",
    "    for i in range(n-1):\n",
    "        for j in range(i+1, n):\n",
    "            print(i, j)\n",
    "\n",
    "# 중복 순열\n",
    "def pi(n):\n",
    "    for i in range(n):\n",
    "        for j in range(n):\n",
    "            print(i, j)\n",
    "\n",
    "# 순열\n",
    "def perm(n):\n",
    "    for i in range(n):\n",
    "        for j in range(n):\n",
    "            if i == j:\n",
    "                continue\n",
    "            print(i, j)"
   ]
  },
  {
   "cell_type": "code",
   "execution_count": 115,
   "metadata": {},
   "outputs": [
    {
     "name": "stdout",
     "output_type": "stream",
     "text": [
      "0 1\n",
      "0 2\n",
      "0 3\n",
      "1 2\n",
      "1 3\n",
      "2 3\n",
      "\n",
      "0 0\n",
      "0 1\n",
      "0 2\n",
      "0 3\n",
      "1 0\n",
      "1 1\n",
      "1 2\n",
      "1 3\n",
      "2 0\n",
      "2 1\n",
      "2 2\n",
      "2 3\n",
      "3 0\n",
      "3 1\n",
      "3 2\n",
      "3 3\n",
      "\n",
      "0 1\n",
      "0 2\n",
      "0 3\n",
      "1 0\n",
      "1 2\n",
      "1 3\n",
      "2 0\n",
      "2 1\n",
      "2 3\n",
      "3 0\n",
      "3 1\n",
      "3 2\n"
     ]
    }
   ],
   "source": [
    "comb(4)\n",
    "print()\n",
    "pi(4)\n",
    "print()\n",
    "perm(4)"
   ]
  },
  {
   "cell_type": "code",
   "execution_count": null,
   "metadata": {},
   "outputs": [],
   "source": []
  }
 ],
 "metadata": {
  "kernelspec": {
   "display_name": "Python 3",
   "language": "python",
   "name": "python3"
  },
  "language_info": {
   "codemirror_mode": {
    "name": "ipython",
    "version": 3
   },
   "file_extension": ".py",
   "mimetype": "text/x-python",
   "name": "python",
   "nbconvert_exporter": "python",
   "pygments_lexer": "ipython3",
   "version": "3.7.2"
  }
 },
 "nbformat": 4,
 "nbformat_minor": 2
}
